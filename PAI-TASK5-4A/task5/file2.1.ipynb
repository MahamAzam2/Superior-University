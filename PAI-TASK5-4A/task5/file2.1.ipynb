{
 "cells": [
  {
   "cell_type": "code",
   "execution_count": 1,
   "metadata": {},
   "outputs": [],
   "source": [
    "# Python code to read image\n",
    "import cv2\n",
    "img = cv2.imread(\"img.jpeg\", cv2.IMREAD_COLOR)\n",
    "\n",
    "cv2.imshow(\"image\", img)\n",
    "\n",
    "cv2.waitKey(0)\n",
    "\n",
    "cv2.destroyAllWindows()\n"
   ]
  },
  {
   "cell_type": "code",
   "execution_count": 2,
   "metadata": {},
   "outputs": [
    {
     "data": {
      "text/plain": [
       "(148, 148, 3)"
      ]
     },
     "execution_count": 2,
     "metadata": {},
     "output_type": "execute_result"
    }
   ],
   "source": [
    "img.shape"
   ]
  },
  {
   "cell_type": "code",
   "execution_count": 4,
   "metadata": {},
   "outputs": [],
   "source": [
    "# Python program to explain cv2.imread() method\n",
    "\n",
    "import cv2\n",
    "\n",
    "path = r'img123.jpeg'\n",
    "image = cv2.imread(path)\n",
    "window_name = 'image'\n",
    "\n",
    "cv2.imshow(window_name, image)\n",
    "cv2.waitKey(0)\n",
    "\n",
    "cv2.destroyAllWindows()"
   ]
  },
  {
   "cell_type": "code",
   "execution_count": 9,
   "metadata": {},
   "outputs": [
    {
     "name": "stdout",
     "output_type": "stream",
     "text": [
      "Before saving image:\n",
      "['.venv', 'app', 'cattree.jpeg', 'file2.1.ipynb', 'img.jpeg', 'img123.jpeg', 'venv']\n",
      "After saving image:\n",
      "['.venv', 'app', 'cattree.jpeg', 'file2.1.ipynb', 'img.jpeg', 'img123.jpeg', 'savedImage.jpg', 'venv']\n",
      "Successfully saved\n"
     ]
    }
   ],
   "source": [
    "# Python program to explain cv2.imwrite() method\n",
    "\n",
    "import cv2 \n",
    "import os\n",
    "\n",
    "# Image path\n",
    "image_path = r'C:\\Users\\LAPTOPMART\\Desktop\\venv\\cattree.jpeg'\n",
    "\n",
    "# Image directory\n",
    "directory = r'C:\\Users\\LAPTOPMART\\Desktop\\venv'\n",
    "\n",
    "img = cv2.imread(image_path)\n",
    "\n",
    "# Change the current directory  to specified directory \n",
    "os.chdir(directory)  \n",
    "print(\"Before saving image:\")  \n",
    "print(os.listdir(directory))  \n",
    "\n",
    "# Filename for the saved image\n",
    "filename = 'savedImage.jpg'\n",
    "cv2.imwrite(filename, img) \n",
    "print(\"After saving image:\")  \n",
    "print(os.listdir(directory))\n",
    "\n",
    "print('Successfully saved')"
   ]
  },
  {
   "cell_type": "code",
   "execution_count": 6,
   "metadata": {},
   "outputs": [],
   "source": [
    "import cv2 \n",
    "  \n",
    "image = cv2.imread('white.jpg') \n",
    "B, G, R = cv2.split(image) \n",
    "# Corresponding channels are separated \n",
    "  \n",
    "cv2.imshow(\"original\", image) \n",
    "cv2.waitKey(0) \n",
    "  \n",
    "cv2.imshow(\"blue\", B) \n",
    "cv2.waitKey(0) \n",
    "  \n",
    "cv2.imshow(\"Green\", G) \n",
    "cv2.waitKey(0) \n",
    "  \n",
    "cv2.imshow(\"red\", R) \n",
    "cv2.waitKey(0) \n",
    "  \n",
    "cv2.destroyAllWindows() "
   ]
  },
  {
   "cell_type": "code",
   "execution_count": 8,
   "metadata": {},
   "outputs": [],
   "source": [
    "\n",
    "import cv2  \n",
    "import numpy as np  \n",
    "    \n",
    "#input images are specified and images are loaded with imread command  \n",
    "image1 = cv2.imread('image1.jpg')  \n",
    "image2 = cv2.imread('image2.jpg') \n",
    "  \n",
    "# cv2.addWeighted is applied over the image inputs with applied parameters \n",
    "weightedSum = cv2.addWeighted(image1, 0.5, image2, 0.4, 0) \n",
    "  \n",
    "# the window showing output image with the weighted sum  \n",
    "cv2.imshow('Weighted Image', weightedSum) \n",
    "  \n",
    "  \n",
    "if cv2.waitKey(0) & 0xff == 27:  \n",
    "    cv2.destroyAllWindows()  "
   ]
  },
  {
   "cell_type": "code",
   "execution_count": 9,
   "metadata": {},
   "outputs": [],
   "source": [
    " \n",
    "import cv2  \n",
    "import numpy as np  \n",
    "     \n",
    "#input images are specified andimages are loaded with imread command   \n",
    "img1 = cv2.imread('img1.png')   \n",
    "img2 = cv2.imread('img2.png')  \n",
    "  \n",
    "# cv2.bitwise_and is applied over theimage inputs with applied parameters  \n",
    "dest_and = cv2.bitwise_and(img2, img1, mask = None) \n",
    "  \n",
    "cv2.imshow('Bitwise And', dest_and) \n",
    "   \n",
    "# De-allocate any associated memory usage   \n",
    "if cv2.waitKey(0) & 0xff == 27:  \n",
    "    cv2.destroyAllWindows()  "
   ]
  }
 ],
 "metadata": {
  "kernelspec": {
   "display_name": "venv",
   "language": "python",
   "name": "python3"
  },
  "language_info": {
   "codemirror_mode": {
    "name": "ipython",
    "version": 3
   },
   "file_extension": ".py",
   "mimetype": "text/x-python",
   "name": "python",
   "nbconvert_exporter": "python",
   "pygments_lexer": "ipython3",
   "version": "3.12.1"
  }
 },
 "nbformat": 4,
 "nbformat_minor": 2
}
